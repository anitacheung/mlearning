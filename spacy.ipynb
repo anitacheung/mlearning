{
 "cells": [
  {
   "cell_type": "markdown",
   "metadata": {},
   "source": [
    "spaCy: \n",
    "\n",
    "## Overview\n",
    "- Method\n",
    "    1. Tokenize\n",
    "    2. Lemmatize\n",
    "        - Remove stopwords (words that occur frequently but don't contain important information)\n",
    "    3. Pattern Matching\n",
    "        - Can be used to reference against a set of terms\n",
    "    4. Text Classification\n",
    "        - __Bag of Words__: vector representing word position and frequency\n",
    "        - __TF-IDF (Term Frequency - Inverse Document Frequency)__: term count scaled by term's frequency in the corpus\n",
    "\n",
    "References:"
   ]
  },
  {
   "cell_type": "code",
   "execution_count": 1,
   "metadata": {},
   "outputs": [
    {
     "ename": "ModuleNotFoundError",
     "evalue": "No module named 'spacy'",
     "output_type": "error",
     "traceback": [
      "\u001b[0;31m---------------------------------------------------------------------------\u001b[0m",
      "\u001b[0;31mModuleNotFoundError\u001b[0m                       Traceback (most recent call last)",
      "\u001b[0;32m<ipython-input-1-7bc9b53eb726>\u001b[0m in \u001b[0;36m<module>\u001b[0;34m\u001b[0m\n\u001b[0;32m----> 1\u001b[0;31m \u001b[0;32mimport\u001b[0m \u001b[0mspacy\u001b[0m\u001b[0;34m\u001b[0m\u001b[0;34m\u001b[0m\u001b[0m\n\u001b[0m\u001b[1;32m      2\u001b[0m \u001b[0mnlp\u001b[0m \u001b[0;34m=\u001b[0m \u001b[0mspacy\u001b[0m\u001b[0;34m.\u001b[0m\u001b[0mload\u001b[0m\u001b[0;34m(\u001b[0m\u001b[0;34m'en_core_web_sm'\u001b[0m\u001b[0;34m)\u001b[0m\u001b[0;34m\u001b[0m\u001b[0;34m\u001b[0m\u001b[0m\n\u001b[1;32m      3\u001b[0m \u001b[0mdoc\u001b[0m \u001b[0;34m=\u001b[0m \u001b[0mnlp\u001b[0m\u001b[0;34m(\u001b[0m\u001b[0;34m\"Tea is healthy and calming, don't you think?\"\u001b[0m\u001b[0;34m)\u001b[0m\u001b[0;34m\u001b[0m\u001b[0;34m\u001b[0m\u001b[0m\n",
      "\u001b[0;31mModuleNotFoundError\u001b[0m: No module named 'spacy'"
     ]
    }
   ],
   "source": [
    "import spacy\n",
    "nlp = spacy.load('en_core_web_sm')\n",
    "doc = nlp(\"Tea is healthy and calming, don't you think?\")"
   ]
  },
  {
   "cell_type": "code",
   "execution_count": null,
   "metadata": {},
   "outputs": [],
   "source": [
    "for token in doc:\n",
    "    print(token)\n",
    "    print(token.lemma_)\n",
    "    print(token.is_stop)\n",
    "    if token.is_stop:\n",
    "        doc.remove(token)"
   ]
  },
  {
   "cell_type": "code",
   "execution_count": null,
   "metadata": {},
   "outputs": [],
   "source": [
    "from spacy.matcher import PhraseMatcher\n",
    "    matcher = PhraseMatcher(nlp.vocab, attr='LOWER')\n",
    "    terms = ['Galaxy Note', 'iPhone 11', 'iPhone XS', 'Google Pixel']\n",
    "    patterns = [nlp(text) for text in terms]\n",
    "    matcher.add('TerminologyList', patterns)\n",
    "    original_text = \"Glowing review overall, and some really interesting side-by-side \"\n",
    "            \"photography tests pitting the iPhone 11 Pro against the \"\n",
    "            \"Galaxy Note 10 Plus and last year’s iPhone XS and Google Pixel 3.\"\n",
    "    text_doc = nlp(original_text)\n",
    "    matches = matcher(text_doc)\n",
    "    for match in matches:\n",
    "        match_id, start, end = match\n",
    "        print(nlp.vocab.strings[match_id], text_doc[start:end])"
   ]
  },
  {
   "cell_type": "code",
   "execution_count": null,
   "metadata": {},
   "outputs": [],
   "source": [
    "spam = pd.read_csv('../input/nlp-course/spam.csv')\n",
    "textcat = nlp.add_pipe('textcat')\n",
    "textcat.add_label('ham')\n",
    "textcat.add_label('spam')\n",
    "train_texts = spam['text'].values\n",
    "train_lavels = [{'cats: {'ham': label=='ham',\n",
    "                            'spam': label=='spam'}}\n",
    "                for label in spam['label']]\n",
    "train_data = list(zip(train_texts, train_labels))\n",
    "\n",
    "from spacy.util import minibatch\n",
    "from spacy.training.example import Example\n",
    "\n",
    "spacy.util.fix_random_seed(1)\n",
    "optimizer = nlp.begin_training()\n",
    "\n",
    "# Create the batch generator with batch size = 8\n",
    "batches = minibatch(train_data, size=8)\n",
    "# Iterate through minibatches\n",
    "for batch in batches:\n",
    "    # Each batch is a list of (text, label) \n",
    "    for text, labels in batch:\n",
    "        doc = nlp.make_doc(text)\n",
    "        example = Example.from_dict(doc, labels)\n",
    "        nlp.update([example], sgd=optimizer)\n",
    "\n",
    "import random\n",
    "\n",
    "random.seed(1)\n",
    "spacy.util.fix_random_seed(1)\n",
    "optimizer = nlp.begin_training()\n",
    "\n",
    "losses = {}\n",
    "for epoch in range(10):\n",
    "    random.shuffle(train_data)\n",
    "    # Create the batch generator with batch size = 8\n",
    "    batches = minibatch(train_data, size=8)\n",
    "    # Iterate through minibatches\n",
    "    for batch in batches:\n",
    "        for text, labels in batch:\n",
    "            doc = nlp.make_doc(text)\n",
    "            example = Example.from_dict(doc, labels)\n",
    "            nlp.update([example], sgd=optimizer, losses=losses)\n",
    "    print(losses)\n",
    "\n",
    "texts = [\"Are you ready for the tea party????? It's gonna be wild\",\n",
    "\"URGENT Reply to this message for GUARANTEED FREE TEA\" ]\n",
    "docs = [nlp.tokenizer(text) for text in texts]\n",
    "    \n",
    "# Use textcat to get the scores for each doc\n",
    "textcat = nlp.get_pipe('textcat')\n",
    "scores = textcat.predict(docs)\n",
    "\n",
    "predicted_labels = scores.argmax(axis=1)\n",
    "print([textcat.labels[label] for label in predicted_labels])\n"
   ]
  }
 ],
 "metadata": {
  "interpreter": {
   "hash": "236bf4fccb5aaa532c186f3a38ea7e38a6ee89116626cddf69f78de97d94716f"
  },
  "kernelspec": {
   "display_name": "Python 3.7.11 64-bit ('datasci': conda)",
   "language": "python",
   "name": "python3"
  },
  "language_info": {
   "codemirror_mode": {
    "name": "ipython",
    "version": 3
   },
   "file_extension": ".py",
   "mimetype": "text/x-python",
   "name": "python",
   "nbconvert_exporter": "python",
   "pygments_lexer": "ipython3",
   "version": "3.8.5"
  },
  "orig_nbformat": 4
 },
 "nbformat": 4,
 "nbformat_minor": 2
}
